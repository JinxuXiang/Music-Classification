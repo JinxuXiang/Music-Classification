{
 "cells": [
  {
   "cell_type": "code",
   "execution_count": 37,
   "metadata": {},
   "outputs": [],
   "source": [
    "import numpy as np\n",
    "import matplotlib.pyplot as plt\n",
    "import math\n",
    "from numba import autojit"
   ]
  },
  {
   "cell_type": "markdown",
   "metadata": {},
   "source": [
    "这个模型用来模拟音乐分类算法中拆分再集成思想的正确率提升效果。对于拆分后的音乐，每一段的分类准确度可以假设为仅与其上一段和下一段相关，并且当分割的次数越多的时候，这个相关的变化值会越小，因为时间上更接近。所以对音乐分类的正确率作一个假设，取一个音乐片段，30s的，然后分割成若干份，从之前的实验结果中可以假设拆分后的片段的平均正确率与未拆分大致相近，这里就假设为一样了。只对这个片段而言，取分割的第一个小片段随机出一个值，和原来的p比价大小得到这个片段的分类到正确与否。用最简单的方法，01均匀随机变量，如果变量小于p，则分类正确。如果大于p，则要考虑分类成其他种类的情况，这里并不是只分成了另外一类，或者是平均随机到另外一类中。在现实情况中，容易存在另一个分类与这个分类高度相关，会有很大概率被分成这个组，而且还会有一些种类高度不相关，以很小的可能性被错误的分到这组。所以我假设在错误的情况下有50%概率分为这个组，同时还有第二相关分类，设为25%概率，剩下的25%由其他种类评分。最后每个小片段得到了自己的分类，通过投票取最多的方式得到大片段的分类。以上的全部步骤称为一次判断，所得到的最终结果只返回正确或者错误，这里的正确就是被正确分类，但错误是被分为其他任何一类。对这样的周期运算足够多次后，可以趋于正确率，用这个正确率代表拆分再集成后的正确率，和原来的正确率比较，画图，可以看到结果。我尝试过多种系数，其趋势都是一致的，仅存在一个过零点，初始正确率在之下，集成会变低，而在之上会变高。这个过零点的值以及图像的一二阶导数与系数选取高度相关，目前我找的算是比较符合实际验证的结果。这个模型的存在意义就是计算速度足够快，如果只是用提取特征再计算的方式画图，一天只能描出8个点左右。系数选取应该不重要，有趋势就可以证明这个集成方法有用了。纯用理论假设的方式，矩阵等计算不仅假设相关系数，还要有联合分布等，很难做出来。"
   ]
  },
  {
   "cell_type": "code",
   "execution_count": 38,
   "metadata": {},
   "outputs": [],
   "source": [
    "#分割的份数\n",
    "n = 12\n",
    "#音乐分类种类\n",
    "m = 10\n",
    "#未被分割时，分类正确的概率\n",
    "p = 0.5\n",
    "#重复次数\n",
    "N = 100000"
   ]
  },
  {
   "cell_type": "code",
   "execution_count": 51,
   "metadata": {},
   "outputs": [],
   "source": [
    "@autojit(nopython=True)\n",
    "def accuracy(n,m,p,N):\n",
    "    #right表示N次循环中分类正确的次数\n",
    "    right = 0\n",
    "    #做N次减小误差\n",
    "    for k in range(N):\n",
    "        #随机数\n",
    "        random = np.random.rand(2*n)\n",
    "        #a代表每次选到的概率值\n",
    "        a = np.zeros(n)\n",
    "        #up是下次随机取样可能得到的最高值\n",
    "        up = np.zeros(n)\n",
    "        #down是下次随机取样可能取到的最低值\n",
    "        down = np.zeros(n)\n",
    "        #y_hat是通过a得到的判断值，0是正确，1是错误最高的种类，2是错误第二高的种类，剩下的是其他的。\n",
    "        y_hat = np.zeros(n)\n",
    "        #yy_hat是在n分割下被判断成每个种类的次数\n",
    "        yy_hat = np.zeros(n)\n",
    "        \n",
    "        #最开始的值是随机的\n",
    "        a[0] = random[0]\n",
    "        for i in range(1,n):\n",
    "            #做几个系数控制一下，事实上这个模型的正确率和这些系数有很大关系，这里只能随便取了。\n",
    "            #u系数控制down的取值，d系数控制up的取值\n",
    "            u = (1-a[i-1])**(1/3)\n",
    "            d = (a[i-1])**(1/3)\n",
    "            #下次随机取样最高值的计算方法，按上次值与最高值剩余量的百分比计算\n",
    "            up[i] = (1-a[i-1])*2/n*d +a[i-1]\n",
    "            #下次随机取样最低值的计算方法，按上次值与最低值剩余量的百分比计算\n",
    "            down[i] = a[i-1] - a[i-1]*2/n*u\n",
    "            #随机得出下一次的取值\n",
    "            a[i] = random[2*i]*(up[i]-down[i]) + down[i]\n",
    "\n",
    "        #y_hat的计算方法\n",
    "        for i in range(n):\n",
    "            if a[i] < p:\n",
    "                y_hat[i] = 0\n",
    "            else:\n",
    "                for j in range(n):\n",
    "                    if random[2*i-1] < possible[j]:\n",
    "                        y_hat[i] = j\n",
    "                        break\n",
    "\n",
    "        #yy_hat的计算方法\n",
    "        for i in range(n):\n",
    "            for j in range(n):\n",
    "                if y_hat[i] == j:\n",
    "                    yy_hat[j] += 1\n",
    "        \n",
    "        #取值y的计算方法\n",
    "        y = np.argmax(yy_hat)\n",
    "        if y == 0:\n",
    "            right +=1\n",
    "\n",
    "        #print(a)\n",
    "        #print(y_hat)\n",
    "        #print(yy_hat)\n",
    "        #print(y)\n",
    "\n",
    "    #print('正确率',right/N)\n",
    "    return right/N"
   ]
  },
  {
   "cell_type": "code",
   "execution_count": 93,
   "metadata": {},
   "outputs": [
    {
     "data": {
      "text/plain": [
       "array([0.        , 0.5       , 0.75      , 0.78571429, 0.82142857,\n",
       "       0.85714286, 0.89285714, 0.92857143, 0.96428571, 1.        ])"
      ]
     },
     "execution_count": 93,
     "metadata": {},
     "output_type": "execute_result"
    }
   ],
   "source": [
    "m = 10\n",
    "#模拟真实分类时候的错误，在分类错误的情况下，总有另一个种类特别相近的，所以取50%的错误是那个分类。\n",
    "#同时可能还有第二相近的，就当做25%。剩下的在剩余概率中平分。\n",
    "#possible仅与n的取值相关\n",
    "possible = np.zeros(m)\n",
    "if n > 3:\n",
    "    possible[0] = 0\n",
    "    possible[1] = possible[0]+(1-possible[0])/(math.log10(m)+1)\n",
    "    possible[2] = possible[1]+(1-possible[1])/(math.log10(m)+1)\n",
    "    for i in range(3,m):\n",
    "        possible[i] = possible[2]+(1-possible[2])*(i-2)/(m-3)\n",
    "if n == 3:\n",
    "    possible[0] = 0\n",
    "    possible[1] = possible[0]+(1-possible[0])/(math.log10(m)+1)\n",
    "    possible[2] = 1\n",
    "if n == 2 :\n",
    "    possible[0] = 0\n",
    "    possible[1] = 1\n",
    "possible"
   ]
  },
  {
   "cell_type": "code",
   "execution_count": 105,
   "metadata": {
    "scrolled": true
   },
   "outputs": [
    {
     "name": "stdout",
     "output_type": "stream",
     "text": [
      "0.02\n",
      "0.04\n",
      "0.06\n",
      "0.08\n",
      "0.1\n",
      "0.12\n",
      "0.14\n",
      "0.16\n",
      "0.18\n",
      "0.2\n",
      "0.22\n",
      "0.24\n",
      "0.26\n",
      "0.28\n",
      "0.3\n",
      "0.32\n",
      "0.34\n",
      "0.36\n",
      "0.38\n",
      "0.4\n",
      "0.42\n",
      "0.44\n",
      "0.46\n",
      "0.48\n",
      "0.5\n",
      "0.52\n",
      "0.54\n",
      "0.56\n",
      "0.58\n",
      "0.6\n",
      "0.62\n",
      "0.64\n",
      "0.66\n",
      "0.68\n",
      "0.7\n",
      "0.72\n",
      "0.74\n",
      "0.76\n",
      "0.78\n",
      "0.8\n",
      "0.82\n",
      "0.84\n",
      "0.86\n",
      "0.88\n",
      "0.9\n",
      "0.92\n",
      "0.94\n",
      "0.96\n",
      "0.98\n",
      "1.0\n"
     ]
    }
   ],
   "source": [
    "#对p值跑若干次进行画图\n",
    "n = 12\n",
    "times = 50\n",
    "acc1210 = np.zeros(times+1)\n",
    "x = np.zeros(times+1)\n",
    "\n",
    "for i in range(1,times+1):\n",
    "    p = i/times\n",
    "    x[i] = p\n",
    "    print(p)\n",
    "    acc1210[i] = accuracy(n,m,p,N)\n"
   ]
  },
  {
   "cell_type": "code",
   "execution_count": 95,
   "metadata": {
    "scrolled": true
   },
   "outputs": [
    {
     "name": "stdout",
     "output_type": "stream",
     "text": [
      "0.02\n",
      "0.04\n",
      "0.06\n",
      "0.08\n",
      "0.1\n",
      "0.12\n",
      "0.14\n",
      "0.16\n",
      "0.18\n",
      "0.2\n",
      "0.22\n",
      "0.24\n",
      "0.26\n",
      "0.28\n",
      "0.3\n",
      "0.32\n",
      "0.34\n",
      "0.36\n",
      "0.38\n",
      "0.4\n",
      "0.42\n",
      "0.44\n",
      "0.46\n",
      "0.48\n",
      "0.5\n",
      "0.52\n",
      "0.54\n",
      "0.56\n",
      "0.58\n",
      "0.6\n",
      "0.62\n",
      "0.64\n",
      "0.66\n",
      "0.68\n",
      "0.7\n",
      "0.72\n",
      "0.74\n",
      "0.76\n",
      "0.78\n",
      "0.8\n",
      "0.82\n",
      "0.84\n",
      "0.86\n",
      "0.88\n",
      "0.9\n",
      "0.92\n",
      "0.94\n",
      "0.96\n",
      "0.98\n",
      "1.0\n"
     ]
    }
   ],
   "source": [
    "#对p值跑若干次进行画图\n",
    "n = 60\n",
    "times = 50\n",
    "acc6010 = np.zeros(times+1)\n",
    "x = np.zeros(times+1)\n",
    "\n",
    "for i in range(1,times+1):\n",
    "    p = i/times\n",
    "    x[i] = p\n",
    "    print(p)\n",
    "    acc6010[i] = accuracy(n,m,p,N)"
   ]
  },
  {
   "cell_type": "code",
   "execution_count": 96,
   "metadata": {},
   "outputs": [
    {
     "data": {
      "text/plain": [
       "array([0.        , 0.34446056, 0.57026804, 0.57584898, 0.58142991,\n",
       "       0.58701084, 0.59259178, 0.59817271, 0.60375365, 0.60933458,\n",
       "       0.61491552, 0.62049645, 0.62607739, 0.63165832, 0.63723926,\n",
       "       0.64282019, 0.64840112, 0.65398206, 0.65956299, 0.66514393,\n",
       "       0.67072486, 0.6763058 , 0.68188673, 0.68746767, 0.6930486 ,\n",
       "       0.69862954, 0.70421047, 0.7097914 , 0.71537234, 0.72095327,\n",
       "       0.72653421, 0.73211514, 0.73769608, 0.74327701, 0.74885795,\n",
       "       0.75443888, 0.76001982, 0.76560075, 0.77118168, 0.77676262,\n",
       "       0.78234355, 0.78792449, 0.79350542, 0.79908636, 0.80466729,\n",
       "       0.81024823, 0.81582916, 0.8214101 , 0.82699103, 0.83257196,\n",
       "       0.8381529 , 0.84373383, 0.84931477, 0.8548957 , 0.86047664,\n",
       "       0.86605757, 0.87163851, 0.87721944, 0.88280037, 0.88838131,\n",
       "       0.89396224, 0.89954318, 0.90512411, 0.91070505, 0.91628598,\n",
       "       0.92186692, 0.92744785, 0.93302879, 0.93860972, 0.94419065,\n",
       "       0.94977159, 0.95535252, 0.96093346, 0.96651439, 0.97209533,\n",
       "       0.97767626, 0.9832572 , 0.98883813, 0.99441907, 1.        ])"
      ]
     },
     "execution_count": 96,
     "metadata": {},
     "output_type": "execute_result"
    }
   ],
   "source": [
    "m = 80\n",
    "#模拟真实分类时候的错误，在分类错误的情况下，总有另一个种类特别相近的，所以取50%的错误是那个分类。\n",
    "#同时可能还有第二相近的，就当做25%。剩下的在剩余概率中平分。\n",
    "#possible仅与n的取值相关\n",
    "possible = np.zeros(m)\n",
    "if n > 3:\n",
    "    possible[0] = 0\n",
    "    possible[1] = possible[0]+(1-possible[0])/(math.log10(m)+1)\n",
    "    possible[2] = possible[1]+(1-possible[1])/(math.log10(m)+1)\n",
    "    for i in range(3,m):\n",
    "        possible[i] = possible[2]+(1-possible[2])*(i-2)/(m-3)\n",
    "if n == 3:\n",
    "    possible[0] = 0\n",
    "    possible[1] = possible[0]+(1-possible[0])/(math.log10(m)+1)\n",
    "    possible[2] = 1\n",
    "if n == 2 :\n",
    "    possible[0] = 0\n",
    "    possible[1] = 1\n",
    "possible"
   ]
  },
  {
   "cell_type": "code",
   "execution_count": 97,
   "metadata": {
    "scrolled": true
   },
   "outputs": [
    {
     "name": "stdout",
     "output_type": "stream",
     "text": [
      "0.02\n",
      "0.04\n",
      "0.06\n",
      "0.08\n",
      "0.1\n",
      "0.12\n",
      "0.14\n",
      "0.16\n",
      "0.18\n",
      "0.2\n",
      "0.22\n",
      "0.24\n",
      "0.26\n",
      "0.28\n",
      "0.3\n",
      "0.32\n",
      "0.34\n",
      "0.36\n",
      "0.38\n",
      "0.4\n",
      "0.42\n",
      "0.44\n",
      "0.46\n",
      "0.48\n",
      "0.5\n",
      "0.52\n",
      "0.54\n",
      "0.56\n",
      "0.58\n",
      "0.6\n",
      "0.62\n",
      "0.64\n",
      "0.66\n",
      "0.68\n",
      "0.7\n",
      "0.72\n",
      "0.74\n",
      "0.76\n",
      "0.78\n",
      "0.8\n",
      "0.82\n",
      "0.84\n",
      "0.86\n",
      "0.88\n",
      "0.9\n",
      "0.92\n",
      "0.94\n",
      "0.96\n",
      "0.98\n",
      "1.0\n"
     ]
    }
   ],
   "source": [
    "#对p值跑若干次进行画图\n",
    "n = 12\n",
    "m = 80\n",
    "times = 50\n",
    "acc1280 = np.zeros(times+1)\n",
    "x = np.zeros(times+1)\n",
    "\n",
    "for i in range(1,times+1):\n",
    "    p = i/times\n",
    "    x[i] = p\n",
    "    print(p)\n",
    "    acc1280[i] = accuracy(n,m,p,N)"
   ]
  },
  {
   "cell_type": "code",
   "execution_count": 98,
   "metadata": {
    "scrolled": true
   },
   "outputs": [
    {
     "name": "stdout",
     "output_type": "stream",
     "text": [
      "0.02\n",
      "0.04\n",
      "0.06\n",
      "0.08\n",
      "0.1\n",
      "0.12\n",
      "0.14\n",
      "0.16\n",
      "0.18\n",
      "0.2\n",
      "0.22\n",
      "0.24\n",
      "0.26\n",
      "0.28\n",
      "0.3\n",
      "0.32\n",
      "0.34\n",
      "0.36\n",
      "0.38\n",
      "0.4\n",
      "0.42\n",
      "0.44\n",
      "0.46\n",
      "0.48\n",
      "0.5\n",
      "0.52\n",
      "0.54\n",
      "0.56\n",
      "0.58\n",
      "0.6\n",
      "0.62\n",
      "0.64\n",
      "0.66\n",
      "0.68\n",
      "0.7\n",
      "0.72\n",
      "0.74\n",
      "0.76\n",
      "0.78\n",
      "0.8\n",
      "0.82\n",
      "0.84\n",
      "0.86\n",
      "0.88\n",
      "0.9\n",
      "0.92\n",
      "0.94\n",
      "0.96\n",
      "0.98\n",
      "1.0\n"
     ]
    }
   ],
   "source": [
    "#对p值跑若干次进行画图\n",
    "n = 60\n",
    "m = 80\n",
    "times = 50\n",
    "acc6080 = np.zeros(times+1)\n",
    "x = np.zeros(times+1)\n",
    "\n",
    "for i in range(1,times+1):\n",
    "    p = i/times\n",
    "    x[i] = p\n",
    "    print(p)\n",
    "    acc6080[i] = accuracy(n,m,p,N)"
   ]
  },
  {
   "cell_type": "code",
   "execution_count": 99,
   "metadata": {},
   "outputs": [
    {
     "data": {
      "image/png": "[encoded data removed]",
      "text/plain": [
       "<Figure size 432x288 with 1 Axes>"
      ]
     },
     "metadata": {},
     "output_type": "display_data"
    }
   ],
   "source": [
    "#这个图的横轴是直接分类的准确率，纵轴是经过拆分集成计算的准确率。\n",
    "plt.plot(x,acc1210,label = 'n=12,m=10')\n",
    "plt.plot(x,acc6010,label = 'n=60,m=10')\n",
    "plt.plot(x,x,label = '45°')\n",
    "plt.legend(['n=12,m=10','n=60,m=10','45°'])\n",
    "plt.xlabel(u'p')\n",
    "plt.ylabel(u'p0')\n",
    "plt.show()"
   ]
  },
  {
   "cell_type": "code",
   "execution_count": 106,
   "metadata": {},
   "outputs": [
    {
     "data": {
      "image/png": "[encoded data removed]",
      "text/plain": [
       "<Figure size 432x288 with 1 Axes>"
      ]
     },
     "metadata": {},
     "output_type": "display_data"
    }
   ],
   "source": [
    "#这个图的横轴是直接分类的准确率，纵轴是经过拆分集成计算的准确率。\n",
    "plt.plot(x,acc1210,label = 'n=12,m=10')\n",
    "plt.plot(x,acc1280,label = 'n=12,m=80')\n",
    "plt.plot(x,x,label = '45°')\n",
    "plt.legend(['n=12,m=10','n=12,m=80','45°'])\n",
    "plt.xlabel('p')\n",
    "plt.ylabel('p0')\n",
    "plt.show()"
   ]
  },
  {
   "cell_type": "code",
   "execution_count": 101,
   "metadata": {},
   "outputs": [
    {
     "data": {
      "image/png": "[encoded data removed]",
      "text/plain": [
       "<Figure size 432x288 with 1 Axes>"
      ]
     },
     "metadata": {},
     "output_type": "display_data"
    }
   ],
   "source": [
    "#这个图的横轴是直接分类的准确率，纵轴是经过拆分集成计算的准确率。\n",
    "plt.plot(x,acc)\n",
    "plt.plot(x,x)\n",
    "plt.xlabel('p')\n",
    "plt.ylabel('p0')\n",
    "plt.title('n=12,m=30')\n",
    "plt.show()"
   ]
  },
  {
   "cell_type": "code",
   "execution_count": 102,
   "metadata": {},
   "outputs": [
    {
     "data": {
      "text/plain": [
       "[<matplotlib.lines.Line2D at 0x1bf926bbb38>]"
      ]
     },
     "execution_count": 102,
     "metadata": {},
     "output_type": "execute_result"
    },
    {
     "data": {
      "image/png": "[encoded data removed]",
      "text/plain": [
       "<Figure size 432x288 with 1 Axes>"
      ]
     },
     "metadata": {},
     "output_type": "display_data"
    }
   ],
   "source": [
    "plt.plot(x,x,label = '45°')"
   ]
  },
  {
   "cell_type": "code",
   "execution_count": null,
   "metadata": {},
   "outputs": [],
   "source": []
  },
  {
   "cell_type": "code",
   "execution_count": null,
   "metadata": {},
   "outputs": [],
   "source": []
  }
 ],
 "metadata": {
  "kernelspec": {
   "display_name": "Python 3",
   "language": "python",
   "name": "python3"
  },
  "language_info": {
   "codemirror_mode": {
    "name": "ipython",
    "version": 3
   },
   "file_extension": ".py",
   "mimetype": "text/x-python",
   "name": "python",
   "nbconvert_exporter": "python",
   "pygments_lexer": "ipython3",
   "version": "3.6.5"
  }
 },
 "nbformat": 4,
 "nbformat_minor": 2
}
