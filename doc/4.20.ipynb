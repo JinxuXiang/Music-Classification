{
 "cells": [
  {
   "cell_type": "code",
   "execution_count": 1,
   "metadata": {},
   "outputs": [
    {
     "name": "stderr",
     "output_type": "stream",
     "text": [
      "C:\\Users\\XJX\\Anaconda3\\lib\\site-packages\\h5py\\__init__.py:36: FutureWarning: Conversion of the second argument of issubdtype from `float` to `np.floating` is deprecated. In future, it will be treated as `np.float64 == np.dtype(float).type`.\n",
      "  from ._conv import register_converters as _register_converters\n",
      "Using TensorFlow backend.\n"
     ]
    }
   ],
   "source": [
    "import librosa\n",
    "import librosa.feature\n",
    "import librosa.display\n",
    "import glob\n",
    "import numpy as np\n",
    "import matplotlib.pyplot as plt\n",
    "import pandas as pd\n",
    "from keras.models import Sequential\n",
    "from keras.layers import Dense, Activation\n",
    "from keras.utils.np_utils import to_categorical\n",
    "import os\n",
    "import time\n",
    "from sklearn import svm\n"
   ]
  },
  {
   "cell_type": "code",
   "execution_count": 2,
   "metadata": {},
   "outputs": [
    {
     "name": "stdout",
     "output_type": "stream",
     "text": [
      "661500\n"
     ]
    }
   ],
   "source": [
    "#找到所有乐曲中信号数量最少的，防止出现特征长度不一致，与上面的数据一致，保障特征数量相等。\n",
    "miny = 10000000\n",
    "name = os.listdir(r\"D:\\弦鸣乐器音乐库\\正式版\")\n",
    "num_of_class = len(name)\n",
    "for num in range(100):\n",
    "    r = str(num)\n",
    "    r = r.zfill(3)\n",
    "    for i in range(num_of_class):\n",
    "        path = r\"D:\\弦鸣乐器音乐库\\正式版\\\\\" + name[i] + '\\\\' + '%s.wav' %r\n",
    "        y, _ = librosa.load(path)\n",
    "        if len(y)<miny:\n",
    "            miny=len(y)\n",
    "for num in range(50):\n",
    "    r = str(num)\n",
    "    r = r.zfill(3)\n",
    "    for i in range(num_of_class):\n",
    "        path = r\"D:\\弦鸣乐器音乐库\\正式版测试集\\\\\" + name[i] + '\\\\' + '%s.wav' %r\n",
    "        y, _ = librosa.load(path)\n",
    "        if len(y)<miny:\n",
    "            miny=len(y)\n",
    "\n",
    "print(len(y))"
   ]
  },
  {
   "cell_type": "code",
   "execution_count": 3,
   "metadata": {},
   "outputs": [],
   "source": [
    "num_of_class = len(name)"
   ]
  },
  {
   "cell_type": "code",
   "execution_count": 69,
   "metadata": {},
   "outputs": [],
   "source": [
    "def extract_features_song(y,n):\n",
    "    n_fft = 512 \n",
    "    hop_length = 256\n",
    "    #mfcc特征，输出的mfcc是一列特征，30s的片段分帧有偏差，所以一致取前25000个。\n",
    "    #mfcc特征的排列顺序是每一帧的横向输出，而后下一帧的所有特征贴在上一帧的右侧。\n",
    "    #下面的特征同理。\n",
    "    mfcc = librosa.feature.mfcc(y)\n",
    "    mfcc /= np.amax(np.absolute(mfcc))\n",
    "    mfcc = np.ndarray.flatten(mfcc)\n",
    "    feature = mfcc\n",
    "    \n",
    "    return feature"
   ]
  },
  {
   "cell_type": "code",
   "execution_count": 4,
   "metadata": {},
   "outputs": [],
   "source": [
    "#y是信号特征，n是将30s片段分成的份数，以下所有分帧以2048为帧长，512为帧移。\n",
    "def extract_features_song(y,n):\n",
    "    n_fft = 512 \n",
    "    hop_length = 256\n",
    "    #mfcc特征，输出的mfcc是一列特征，30s的片段分帧有偏差，所以一致取前25000个。\n",
    "    #mfcc特征的排列顺序是每一帧的横向输出，而后下一帧的所有特征贴在上一帧的右侧。\n",
    "    #下面的特征同理。\n",
    "\n",
    "    spectral_centroid = librosa.feature.spectral_centroid(y, n_fft = n_fft, hop_length = hop_length)[0]\n",
    "    spectral_centroid /= np.amax(np.absolute(spectral_centroid))\n",
    "    feature = spectral_centroid\n",
    "\n",
    "    spectral_bandwidth = librosa.feature.spectral_bandwidth(y, n_fft = n_fft, hop_length = hop_length)[0]\n",
    "    spectral_bandwidth /= np.amax(np.absolute(spectral_bandwidth))\n",
    "    feature = np.append(feature,spectral_bandwidth)\n",
    "\n",
    "    spectral_contrast = librosa.feature.spectral_contrast(y, n_fft = n_fft, hop_length = hop_length)[0]\n",
    "    spectral_contrast /= np.amax(np.absolute(spectral_contrast))\n",
    "    feature = np.append(feature,spectral_contrast)\n",
    "\n",
    "    spectral_rolloff = librosa.feature.spectral_rolloff(y, n_fft = n_fft, hop_length = hop_length)[0]\n",
    "    spectral_rolloff /= np.amax(np.absolute(spectral_rolloff))\n",
    "    feature = np.append(feature,spectral_rolloff)\n",
    "\n",
    "    spectral_flatness = librosa.feature.spectral_flatness(y, n_fft = n_fft, hop_length = hop_length)[0]\n",
    "    spectral_flatness /= np.amax(np.absolute(spectral_flatness))\n",
    "    feature = np.append(feature,spectral_flatness)\n",
    "\n",
    "    rms = librosa.feature.rms(y, frame_length = n_fft, hop_length = hop_length)[0]\n",
    "    rms /= np.amax(np.absolute(rms))\n",
    "    feature = np.append(feature,rms)\n",
    "\n",
    "    zero_all = sum(librosa.zero_crossings(y, pad=False))/len(y)\n",
    "    feature = np.append(feature,zero_all)\n",
    "\n",
    "    #这里的返回向量是横向的，一行若干列，例如shape=(1,3000)，所有特征都是连接的，mfcc在最前，过零率在最后\n",
    "    return feature"
   ]
  },
  {
   "cell_type": "code",
   "execution_count": 280,
   "metadata": {},
   "outputs": [],
   "source": [
    "#y是信号特征，n是将30s片段分成的份数，以下所有分帧以2048为帧长，512为帧移。\n",
    "def extract_features_song(y,n):\n",
    "    n_fft = 512 \n",
    "    hop_length = 256\n",
    "    #mfcc特征，输出的mfcc是一列特征，30s的片段分帧有偏差，所以一致取前25000个。\n",
    "    #mfcc特征的排列顺序是每一帧的横向输出，而后下一帧的所有特征贴在上一帧的右侧。\n",
    "    #下面的特征同理。\n",
    "    mfcc = librosa.feature.mfcc(y)\n",
    "    mfcc /= np.amax(np.absolute(mfcc))\n",
    "    mfcc = np.ndarray.flatten(mfcc)\n",
    "    feature = mfcc\n",
    "\n",
    "    spectral_centroid = librosa.feature.spectral_centroid(y, n_fft = n_fft, hop_length = hop_length)[0]\n",
    "    spectral_centroid /= np.amax(np.absolute(spectral_centroid))\n",
    "    feature = np.append(feature,spectral_centroid)\n",
    "\n",
    "    spectral_bandwidth = librosa.feature.spectral_bandwidth(y, n_fft = n_fft, hop_length = hop_length)[0]\n",
    "    spectral_bandwidth /= np.amax(np.absolute(spectral_bandwidth))\n",
    "    feature = np.append(feature,spectral_bandwidth)\n",
    "\n",
    "    spectral_contrast = librosa.feature.spectral_contrast(y, n_fft = n_fft, hop_length = hop_length)[0]\n",
    "    spectral_contrast /= np.amax(np.absolute(spectral_contrast))\n",
    "    feature = np.append(feature,spectral_contrast)\n",
    "\n",
    "    spectral_rolloff = librosa.feature.spectral_rolloff(y, n_fft = n_fft, hop_length = hop_length)[0]\n",
    "    spectral_rolloff /= np.amax(np.absolute(spectral_rolloff))\n",
    "    feature = np.append(feature,spectral_rolloff)\n",
    "\n",
    "    spectral_flatness = librosa.feature.spectral_flatness(y, n_fft = n_fft, hop_length = hop_length)[0]\n",
    "    spectral_flatness /= np.amax(np.absolute(spectral_flatness))\n",
    "    feature = np.append(feature,spectral_flatness)\n",
    "\n",
    "    rms = librosa.feature.rms(y, frame_length = n_fft, hop_length = hop_length)[0]\n",
    "    rms /= np.amax(np.absolute(rms))\n",
    "    feature = np.append(feature,rms)\n",
    "\n",
    "    zero_all = sum(librosa.zero_crossings(y, pad=False))/len(y)\n",
    "    feature = np.append(feature,zero_all)\n",
    "\n",
    "    #这里的返回向量是横向的，一行若干列，例如shape=(1,3000)，所有特征都是连接的，mfcc在最前，过零率在最后\n",
    "    return feature"
   ]
  },
  {
   "cell_type": "code",
   "execution_count": 5,
   "metadata": {},
   "outputs": [],
   "source": [
    "#训练集的数据提取\n",
    "def generate_train_features_and_labels():\n",
    "    all_features = []\n",
    "    all_labels = []\n",
    "    all_number = []\n",
    "    #获得该地址下内文件名称，这里是每个分类的名称\n",
    "    genres = os.listdir(r\"D:\\弦鸣乐器音乐库\\正式版\")\n",
    "    for genre in genres:\n",
    "        #获得每个分类下，100个片段的地址名称\n",
    "        sound_files = glob.glob(r\"D:\\弦鸣乐器音乐库\\正式版\\\\\"+genre+\"\\\\*.wav\")\n",
    "        print('正在进行 %d 首训练集 %s 歌曲的特征提取...' % (len(sound_files), genre))\n",
    "        #number代表的是当前小片段所处大片段的编号，文件后缀000，001，088这种\n",
    "        number = 0\n",
    "        for f in sound_files:\n",
    "            #y是读取的信号\n",
    "            y, _ = librosa.load(f)\n",
    "            #将y的长度一致化\n",
    "            y = y[:miny]\n",
    "            #i从0到n-1，这里是按照每个片段分开读取特征\n",
    "            for i in range(n):\n",
    "                #提取特征中，输入到函数中的是y的片段\n",
    "                features = extract_features_song(y[int(len(y)/n*i):int(len(y)/n*(i+1))],n)\n",
    "                #features返回的向量为行向量，这里的append是把新的一行粘贴到原有的下面一行\n",
    "                all_features.append(features)\n",
    "                #genre是一个单独的字符串，append同样是往下面一行粘贴\n",
    "                all_labels.append(genre)\n",
    "                #number是数字，粘贴后事一维向量\n",
    "                all_number.append(number)\n",
    "            number += 1\n",
    "    #这里将all_labels转化成数字，从0开始按顺序递增，这个顺序和直接读取文件，上一个运算格里的name[i]中的i是一样的。\n",
    "    label_uniq_ids, label_row_ids = np.unique(all_labels, return_inverse=True)\n",
    "    label_row_ids = label_row_ids.astype(np.int32, copy=False)\n",
    "    #转换成onehot编码，0对应的是(1,0,0...)以此类推\n",
    "    onehot_labels = to_categorical(label_row_ids, len(label_uniq_ids))\n",
    "    #将一位向量reshape成二维方便后面操作\n",
    "    all_number = np.reshape(all_number,[len(all_number),1])\n",
    "    \n",
    "    #返回特征、标签、及标号\n",
    "    return np.stack(all_features), onehot_labels, all_number\n",
    "\n",
    "#提取测试集的特征\n",
    "def generate_test_features_and_labels():\n",
    "    all_features = []\n",
    "    all_labels = []\n",
    "    all_number = []\n",
    "    #获得该地址下内文件名称，这里是每个分类的名称\n",
    "    genres = os.listdir(r\"D:\\弦鸣乐器音乐库\\正式版测试集\")\n",
    "    for genre in genres:\n",
    "        #获得每个分类下，100个片段的地址名称\n",
    "        sound_files = glob.glob(r\"D:\\弦鸣乐器音乐库\\正式版测试集\\\\\"+genre+\"\\\\*.wav\")\n",
    "        print('正在进行 %d 首训练集 %s 歌曲的特征提取...' % (len(sound_files), genre))\n",
    "        #number代表的是当前小片段所处大片段的编号，文件后缀100，101，138这种，这里接在上面的训练集之后，从100开始。\n",
    "        number = 100\n",
    "        for f in sound_files:\n",
    "            #y是读取的信号\n",
    "            y, _ = librosa.load(f)\n",
    "            #将y的长度一致化\n",
    "            y = y[:miny]\n",
    "            #i从0到n-1，这里是按照每个片段分开读取特征\n",
    "            for i in range(n):\n",
    "                #提取特征中，输入到函数中的是y的片段\n",
    "                features = extract_features_song(y[int(len(y)/n*i):int(len(y)/n*(i+1))],n)\n",
    "                #features返回的向量为行向量，这里的append是把新的一行粘贴到原有的下面一行\n",
    "                all_features.append(features)\n",
    "                #genre是一个单独的字符串，append同样是往下面一行粘贴\n",
    "                all_labels.append(genre)\n",
    "                #number是数字，粘贴后事一维向量\n",
    "                all_number.append(number)\n",
    "            number += 1\n",
    "    #这里将all_labels转化成数字，从0开始按顺序递增，这个顺序和直接读取文件，上一个运算格里的name[i]中的i是一样的。\n",
    "    label_uniq_ids, label_row_ids = np.unique(all_labels, return_inverse=True)\n",
    "    label_row_ids = label_row_ids.astype(np.int32, copy=False)\n",
    "    #转换成onehot编码，0对应的是(1,0,0...)以此类推\n",
    "    onehot_labels = to_categorical(label_row_ids, len(label_uniq_ids))\n",
    "    #将一位向量reshape成二维方便后面操作\n",
    "    all_number = np.reshape(all_number,[len(all_number),1])\n",
    "    \n",
    "    #返回特征、标签、及标号\n",
    "    return np.stack(all_features), onehot_labels, all_number"
   ]
  },
  {
   "cell_type": "code",
   "execution_count": 281,
   "metadata": {},
   "outputs": [],
   "source": [
    "#先不分段，看整体分类结果\n",
    "n = 30"
   ]
  },
  {
   "cell_type": "code",
   "execution_count": 282,
   "metadata": {},
   "outputs": [
    {
     "name": "stdout",
     "output_type": "stream",
     "text": [
      "正在进行 100 首训练集 二胡 歌曲的特征提取...\n",
      "正在进行 100 首训练集 古筝 歌曲的特征提取...\n",
      "正在进行 100 首训练集 吉他 歌曲的特征提取...\n",
      "正在进行 100 首训练集 大提琴 歌曲的特征提取...\n",
      "正在进行 100 首训练集 小提琴 歌曲的特征提取...\n",
      "正在进行 100 首训练集 琵琶 歌曲的特征提取...\n",
      "正在进行 100 首训练集 西塔尔琴 歌曲的特征提取...\n",
      "正在进行 100 首训练集 钢琴 歌曲的特征提取...\n"
     ]
    }
   ],
   "source": [
    "features_train1, labels_train1, numbers_train1 = generate_train_features_and_labels()"
   ]
  },
  {
   "cell_type": "code",
   "execution_count": 283,
   "metadata": {},
   "outputs": [
    {
     "name": "stdout",
     "output_type": "stream",
     "text": [
      "正在进行 50 首训练集 二胡 歌曲的特征提取...\n",
      "正在进行 50 首训练集 古筝 歌曲的特征提取...\n",
      "正在进行 50 首训练集 吉他 歌曲的特征提取...\n",
      "正在进行 50 首训练集 大提琴 歌曲的特征提取...\n",
      "正在进行 50 首训练集 小提琴 歌曲的特征提取...\n",
      "正在进行 50 首训练集 琵琶 歌曲的特征提取...\n",
      "正在进行 50 首训练集 西塔尔琴 歌曲的特征提取...\n",
      "正在进行 50 首训练集 钢琴 歌曲的特征提取...\n"
     ]
    }
   ],
   "source": [
    "features_test1, labels_test1, numbers_test1 = generate_test_features_and_labels()"
   ]
  },
  {
   "cell_type": "code",
   "execution_count": 284,
   "metadata": {},
   "outputs": [
    {
     "name": "stdout",
     "output_type": "stream",
     "text": [
      "(24000, 1377)\n",
      "(24000, 8)\n",
      "(24000, 1)\n",
      "(12000, 1377)\n",
      "(12000, 8)\n",
      "(12000, 1)\n"
     ]
    }
   ],
   "source": [
    "#输出特征维度，保证准确度\n",
    "print(np.shape(features_train1))\n",
    "print(np.shape(labels_train1))\n",
    "print(np.shape(numbers_train1))\n",
    "\n",
    "print(np.shape(features_test1))\n",
    "print(np.shape(labels_test1))\n",
    "print(np.shape(numbers_test1))\n",
    "\n",
    "#将特征合并到一起，方便后面随机排序\n",
    "alldata_train1 = np.column_stack((features_train1, labels_train1, numbers_train1))\n",
    "alldata_test1 = np.column_stack((features_test1, labels_test1, numbers_test1))"
   ]
  },
  {
   "cell_type": "code",
   "execution_count": null,
   "metadata": {},
   "outputs": [],
   "source": []
  },
  {
   "cell_type": "code",
   "execution_count": 285,
   "metadata": {},
   "outputs": [
    {
     "name": "stdout",
     "output_type": "stream",
     "text": [
      "(24000, 1386)\n",
      "(12000, 1386)\n",
      "(24000, 1377)\n",
      "(24000, 8)\n",
      "(24000, 1)\n"
     ]
    }
   ],
   "source": [
    "#测试集的编号及数量\n",
    "test_set = np.arange(100,150)\n",
    "num_of_test = len(test_set)\n",
    "\n",
    "#去除NAN项，（实际上n=1或n=12均不存在）\n",
    "df = pd.DataFrame(alldata_train1)\n",
    "data_without_NaN = df.dropna(axis=0)\n",
    "alldata_train = np.array(data_without_NaN)\n",
    "\n",
    "df = pd.DataFrame(alldata_test1)\n",
    "data_without_NaN = df.dropna(axis=0)\n",
    "alldata_test = np.array(data_without_NaN)\n",
    "\n",
    "#将训练集和测试集分类\n",
    "train = []\n",
    "test = []\n",
    "#这里的判别方式是，alldata里的最后一列，即数字标号如果和test_set中相等，则放入测试集中\n",
    "for i in range(len(alldata_train)):\n",
    "    if sum(alldata_train[i,-1] == test_set) > 0:\n",
    "        test.append(alldata_train[i,:])\n",
    "    else:\n",
    "        train.append(alldata_train[i,:])\n",
    "        \n",
    "for i in range(len(alldata_test)):\n",
    "    if sum(alldata_test[i,-1] == test_set) > 0:\n",
    "        test.append(alldata_test[i,:])\n",
    "    else:\n",
    "        train.append(alldata_test[i,:])\n",
    "        \n",
    "\n",
    "test = np.array(test)\n",
    "train = np.array(train)\n",
    "\n",
    "np.random.shuffle(train)\n",
    "\n",
    "#从训练集和测试集的数量多少能看到上面分类是否准确，前两个输出应为4：1关系\n",
    "print(np.shape(train))\n",
    "print(np.shape(test))\n",
    "\n",
    "#将之前合并的特征、标签、标号拆分出来，标号是最后一列，这里标签是最后10列，（若是8分类就是8列）\n",
    "train_input = train[:,:-num_of_class-1]\n",
    "train_labels = train[:,-num_of_class-1:-1]\n",
    "train_numbers = train[:,-1]\n",
    "train_numbers = train_numbers.reshape([len(train_numbers),1])\n",
    "\n",
    "test_input = test[:,:-num_of_class-1]\n",
    "test_labels = test[:,-num_of_class-1:-1]\n",
    "test_numbers = test[:,-1]\n",
    "test_numbers = test_numbers.reshape([len(test_numbers),1])\n",
    "\n",
    "print(np.shape(train_input))\n",
    "print(np.shape(train_labels))\n",
    "print(np.shape(train_numbers))"
   ]
  },
  {
   "cell_type": "code",
   "execution_count": null,
   "metadata": {},
   "outputs": [],
   "source": []
  },
  {
   "cell_type": "code",
   "execution_count": 286,
   "metadata": {},
   "outputs": [],
   "source": [
    "#同样的使用svm算法，经测试三次多项式判别为最佳，另外，svm不能使用onehot编码\n",
    "begintime_poly = time.clock()\n",
    "clf = svm.SVC(C=0.8, kernel='poly',degree=3, gamma=20, decision_function_shape='none')\n",
    "clf.fit(train_input, [np.argmax(train_labels)for train_labels in train_labels])\n",
    "endtime_poly = time.clock()"
   ]
  },
  {
   "cell_type": "code",
   "execution_count": 287,
   "metadata": {},
   "outputs": [
    {
     "name": "stdout",
     "output_type": "stream",
     "text": [
      "多项式核函数训练花费时间 240.7120894362124\n"
     ]
    }
   ],
   "source": [
    "print('多项式核函数训练花费时间',endtime_poly-begintime_poly)"
   ]
  },
  {
   "cell_type": "code",
   "execution_count": 288,
   "metadata": {},
   "outputs": [],
   "source": [
    "train_X = train_input\n",
    "train_Y = [np.argmax(train_labels)for train_labels in train_labels]\n",
    "test_X = test_input\n",
    "test_Y = [np.argmax(test_labels)for test_labels in test_labels]\n",
    "#转出y_hat 与y_real后与上述操作相同\n",
    "y_hat = clf.predict(test_X)\n",
    "y_real = test_Y"
   ]
  },
  {
   "cell_type": "code",
   "execution_count": 289,
   "metadata": {},
   "outputs": [
    {
     "name": "stdout",
     "output_type": "stream",
     "text": [
      "训练集准确度 0.8525833333333334\n"
     ]
    }
   ],
   "source": [
    "predict = 0\n",
    "for i in range(len(y_real)):\n",
    "    if y_hat[i]==y_real[i]:\n",
    "        predict+=1\n",
    "print ('训练集准确度',predict/len(y_real)) "
   ]
  },
  {
   "cell_type": "code",
   "execution_count": 290,
   "metadata": {},
   "outputs": [],
   "source": [
    "#y_numbers是一个大矩阵，行数是测试大片段数量(20)乘分类数量(10)，列数与分类数量相同（10）\n",
    "#其前20行是类型0的20个选取的大片段被分为了某一类的数量，如（5，0，0，0，4，0，1，0。。。）\n",
    "y_numbers = np.zeros([num_of_test*num_of_class,num_of_class])\n",
    "for i in range(len(y_hat)):\n",
    "    for j in range(num_of_test):\n",
    "        #test_numbers是测试的小片段所属的标号，test_set是20个被选为测试集的片段的标号\n",
    "        if test_numbers[i] == test_set[j]:\n",
    "            #如果上面两个标号相等，则将真实行，判定的类别的列上+1\n",
    "            y_numbers[y_real[i]*num_of_test+j,y_hat[i]] += 1"
   ]
  },
  {
   "cell_type": "code",
   "execution_count": 291,
   "metadata": {},
   "outputs": [
    {
     "name": "stdout",
     "output_type": "stream",
     "text": [
      "最终分类正确率是 0.9725\n"
     ]
    }
   ],
   "source": [
    "#yy_hat是将y_numbers里每行最大的那个数字所在的位置输出出来，也就是大片段的预测值\n",
    "yy_hat = [np.argmax(y_numbers)for y_numbers in y_numbers]\n",
    "#按照上一运算格中的排序方式，大片段真实值yy_real应该按下述方式构造（0，0。。0，1，1。。，1，2。。。）\n",
    "yy_real= np.zeros(num_of_test*num_of_class)\n",
    "for i in range(num_of_class):\n",
    "    for j in range(num_of_test):\n",
    "        yy_real[i*num_of_test+j] = i\n",
    "#yy_number是大片段对比正确的数量\n",
    "yy_number = 0\n",
    "for i in range(len(yy_real)):\n",
    "    if yy_hat[i]==yy_real[i]:\n",
    "        yy_number+=1\n",
    "print('最终分类正确率是',yy_number/len(yy_real))"
   ]
  },
  {
   "cell_type": "code",
   "execution_count": 292,
   "metadata": {
    "scrolled": true
   },
   "outputs": [
    {
     "name": "stdout",
     "output_type": "stream",
     "text": [
      "二胡 130 被判定成了 钢琴\n",
      "吉他 146 被判定成了 大提琴\n",
      "小提琴 100 被判定成了 大提琴\n",
      "小提琴 101 被判定成了 大提琴\n",
      "小提琴 102 被判定成了 大提琴\n",
      "小提琴 107 被判定成了 二胡\n",
      "小提琴 138 被判定成了 大提琴\n",
      "小提琴 142 被判定成了 古筝\n",
      "琵琶 132 被判定成了 古筝\n",
      "钢琴 107 被判定成了 古筝\n",
      "钢琴 121 被判定成了 小提琴\n"
     ]
    }
   ],
   "source": [
    "#给出错误的序号及判定\n",
    "for i in range(len(yy_hat)):\n",
    "    if yy_hat[i] != yy_real[i]:\n",
    "        print(name[int(yy_real[i])],test_set[i%num_of_test],'被判定成了',name[int(yy_hat[i])])"
   ]
  },
  {
   "cell_type": "code",
   "execution_count": 293,
   "metadata": {},
   "outputs": [
    {
     "name": "stdout",
     "output_type": "stream",
     "text": [
      "[[49.  0.  0.  0.  0.  0.  0.  1.]\n",
      " [ 0. 50.  0.  0.  0.  0.  0.  0.]\n",
      " [ 0.  0. 49.  1.  0.  0.  0.  0.]\n",
      " [ 0.  0.  0. 50.  0.  0.  0.  0.]\n",
      " [ 1.  1.  0.  4. 44.  0.  0.  0.]\n",
      " [ 0.  1.  0.  0.  0. 49.  0.  0.]\n",
      " [ 0.  0.  0.  0.  0.  0. 50.  0.]\n",
      " [ 0.  1.  0.  0.  1.  0.  0. 48.]]\n"
     ]
    }
   ],
   "source": [
    "test_matrix = np.zeros([num_of_class,num_of_class])\n",
    "for i in range(len(yy_hat)):\n",
    "        test_matrix[int(yy_real[i]),int(yy_hat[i])] += 1\n",
    "print(test_matrix)"
   ]
  },
  {
   "cell_type": "code",
   "execution_count": null,
   "metadata": {},
   "outputs": [],
   "source": []
  },
  {
   "cell_type": "code",
   "execution_count": 294,
   "metadata": {},
   "outputs": [],
   "source": [
    "#同样的使用svm算法，经测试三次多项式判别为最佳，另外，svm不能使用onehot编码\n",
    "begintime_linear = time.clock()\n",
    "clf = svm.SVC(C=0.8, kernel='linear',degree=3, gamma=20, decision_function_shape='none')\n",
    "clf.fit(train_input, [np.argmax(train_labels)for train_labels in train_labels])\n",
    "endtime_linear = time.clock()"
   ]
  },
  {
   "cell_type": "code",
   "execution_count": 295,
   "metadata": {},
   "outputs": [
    {
     "name": "stdout",
     "output_type": "stream",
     "text": [
      "线性核函数训练花费时间 233.17893016401285\n"
     ]
    }
   ],
   "source": [
    "print('线性核函数训练花费时间',endtime_linear-begintime_linear)"
   ]
  },
  {
   "cell_type": "code",
   "execution_count": 296,
   "metadata": {},
   "outputs": [],
   "source": [
    "train_X = train_input\n",
    "train_Y = [np.argmax(train_labels)for train_labels in train_labels]\n",
    "test_X = test_input\n",
    "test_Y = [np.argmax(test_labels)for test_labels in test_labels]\n",
    "#转出y_hat 与y_real后与上述操作相同\n",
    "y_hat = clf.predict(test_X)\n",
    "y_real = test_Y"
   ]
  },
  {
   "cell_type": "code",
   "execution_count": 297,
   "metadata": {},
   "outputs": [
    {
     "name": "stdout",
     "output_type": "stream",
     "text": [
      "训练集准确度 0.81075\n"
     ]
    }
   ],
   "source": [
    "predict = 0\n",
    "for i in range(len(y_real)):\n",
    "    if y_hat[i]==y_real[i]:\n",
    "        predict+=1\n",
    "print ('训练集准确度',predict/len(y_real)) "
   ]
  },
  {
   "cell_type": "code",
   "execution_count": 298,
   "metadata": {},
   "outputs": [],
   "source": [
    "#y_numbers是一个大矩阵，行数是测试大片段数量(20)乘分类数量(10)，列数与分类数量相同（10）\n",
    "#其前20行是类型0的20个选取的大片段被分为了某一类的数量，如（5，0，0，0，4，0，1，0。。。）\n",
    "y_numbers = np.zeros([num_of_test*num_of_class,num_of_class])\n",
    "for i in range(len(y_hat)):\n",
    "    for j in range(num_of_test):\n",
    "        #test_numbers是测试的小片段所属的标号，test_set是20个被选为测试集的片段的标号\n",
    "        if test_numbers[i] == test_set[j]:\n",
    "            #如果上面两个标号相等，则将真实行，判定的类别的列上+1\n",
    "            y_numbers[y_real[i]*num_of_test+j,y_hat[i]] += 1"
   ]
  },
  {
   "cell_type": "code",
   "execution_count": 299,
   "metadata": {},
   "outputs": [
    {
     "name": "stdout",
     "output_type": "stream",
     "text": [
      "最终分类正确率是 0.9375\n"
     ]
    }
   ],
   "source": [
    "#yy_hat是将y_numbers里每行最大的那个数字所在的位置输出出来，也就是大片段的预测值\n",
    "yy_hat = [np.argmax(y_numbers)for y_numbers in y_numbers]\n",
    "#按照上一运算格中的排序方式，大片段真实值yy_real应该按下述方式构造（0，0。。0，1，1。。，1，2。。。）\n",
    "yy_real= np.zeros(num_of_test*num_of_class)\n",
    "for i in range(num_of_class):\n",
    "    for j in range(num_of_test):\n",
    "        yy_real[i*num_of_test+j] = i\n",
    "#yy_number是大片段对比正确的数量\n",
    "yy_number = 0\n",
    "for i in range(len(yy_real)):\n",
    "    if yy_hat[i]==yy_real[i]:\n",
    "        yy_number+=1\n",
    "print('最终分类正确率是',yy_number/len(yy_real))"
   ]
  },
  {
   "cell_type": "code",
   "execution_count": 300,
   "metadata": {
    "scrolled": true
   },
   "outputs": [
    {
     "name": "stdout",
     "output_type": "stream",
     "text": [
      "二胡 130 被判定成了 钢琴\n",
      "古筝 125 被判定成了 琵琶\n",
      "吉他 139 被判定成了 大提琴\n",
      "吉他 146 被判定成了 大提琴\n",
      "大提琴 102 被判定成了 小提琴\n",
      "大提琴 103 被判定成了 吉他\n",
      "小提琴 100 被判定成了 大提琴\n",
      "小提琴 101 被判定成了 大提琴\n",
      "小提琴 102 被判定成了 大提琴\n",
      "小提琴 105 被判定成了 大提琴\n",
      "小提琴 107 被判定成了 大提琴\n",
      "琵琶 132 被判定成了 古筝\n",
      "西塔尔琴 127 被判定成了 大提琴\n",
      "西塔尔琴 137 被判定成了 小提琴\n",
      "西塔尔琴 145 被判定成了 古筝\n",
      "钢琴 107 被判定成了 古筝\n",
      "钢琴 119 被判定成了 小提琴\n",
      "钢琴 120 被判定成了 小提琴\n",
      "钢琴 121 被判定成了 小提琴\n",
      "钢琴 122 被判定成了 古筝\n",
      "钢琴 123 被判定成了 小提琴\n",
      "钢琴 124 被判定成了 古筝\n",
      "钢琴 125 被判定成了 古筝\n",
      "钢琴 126 被判定成了 古筝\n",
      "钢琴 127 被判定成了 小提琴\n"
     ]
    }
   ],
   "source": [
    "#给出错误的序号及判定\n",
    "for i in range(len(yy_hat)):\n",
    "    if yy_hat[i] != yy_real[i]:\n",
    "        print(name[int(yy_real[i])],test_set[i%num_of_test],'被判定成了',name[int(yy_hat[i])])"
   ]
  },
  {
   "cell_type": "code",
   "execution_count": 301,
   "metadata": {},
   "outputs": [
    {
     "name": "stdout",
     "output_type": "stream",
     "text": [
      "[[49.  0.  0.  0.  0.  0.  0.  1.]\n",
      " [ 0. 49.  0.  0.  0.  1.  0.  0.]\n",
      " [ 0.  0. 48.  2.  0.  0.  0.  0.]\n",
      " [ 0.  0.  1. 48.  1.  0.  0.  0.]\n",
      " [ 0.  0.  0.  5. 45.  0.  0.  0.]\n",
      " [ 0.  1.  0.  0.  0. 49.  0.  0.]\n",
      " [ 0.  1.  0.  1.  1.  0. 47.  0.]\n",
      " [ 0.  5.  0.  0.  5.  0.  0. 40.]]\n"
     ]
    }
   ],
   "source": [
    "test_matrix = np.zeros([num_of_class,num_of_class])\n",
    "for i in range(len(yy_hat)):\n",
    "        test_matrix[int(yy_real[i]),int(yy_hat[i])] += 1\n",
    "print(test_matrix)"
   ]
  },
  {
   "cell_type": "code",
   "execution_count": null,
   "metadata": {},
   "outputs": [],
   "source": []
  },
  {
   "cell_type": "code",
   "execution_count": null,
   "metadata": {},
   "outputs": [],
   "source": []
  },
  {
   "cell_type": "code",
   "execution_count": null,
   "metadata": {},
   "outputs": [],
   "source": []
  },
  {
   "cell_type": "code",
   "execution_count": null,
   "metadata": {},
   "outputs": [],
   "source": []
  },
  {
   "cell_type": "code",
   "execution_count": null,
   "metadata": {},
   "outputs": [],
   "source": []
  },
  {
   "cell_type": "code",
   "execution_count": null,
   "metadata": {},
   "outputs": [],
   "source": []
  },
  {
   "cell_type": "code",
   "execution_count": null,
   "metadata": {},
   "outputs": [],
   "source": []
  },
  {
   "cell_type": "code",
   "execution_count": null,
   "metadata": {},
   "outputs": [],
   "source": []
  }
 ],
 "metadata": {
  "kernelspec": {
   "display_name": "Python 3",
   "language": "python",
   "name": "python3"
  },
  "language_info": {
   "codemirror_mode": {
    "name": "ipython",
    "version": 3
   },
   "file_extension": ".py",
   "mimetype": "text/x-python",
   "name": "python",
   "nbconvert_exporter": "python",
   "pygments_lexer": "ipython3",
   "version": "3.6.5"
  }
 },
 "nbformat": 4,
 "nbformat_minor": 2
}
