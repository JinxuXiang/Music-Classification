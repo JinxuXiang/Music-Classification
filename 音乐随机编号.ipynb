{
 "cells": [
  {
   "cell_type": "code",
   "execution_count": 1,
   "metadata": {},
   "outputs": [
    {
     "name": "stderr",
     "output_type": "stream",
     "text": [
      "C:\\Users\\XJX\\Anaconda3\\lib\\site-packages\\pydub\\utils.py:165: RuntimeWarning: Couldn't find ffmpeg or avconv - defaulting to ffmpeg, but may not work\n",
      "  warn(\"Couldn't find ffmpeg or avconv - defaulting to ffmpeg, but may not work\", RuntimeWarning)\n"
     ]
    }
   ],
   "source": [
    "import glob\n",
    "import IPython.display as ipd\n",
    "import numpy as np\n",
    "import matplotlib.pyplot as plt\n",
    "import os\n",
    "from pydub import AudioSegment"
   ]
  },
  {
   "cell_type": "code",
   "execution_count": 2,
   "metadata": {},
   "outputs": [],
   "source": [
    "rand_set = []\n",
    "for i in range(100):\n",
    "    count = 1\n",
    "    while count > 0:\n",
    "        a = np.random.randint(0,100)\n",
    "        count = 0\n",
    "        for j in range(len(rand_set)):\n",
    "            if a==rand_set[j]:\n",
    "                count+=1\n",
    "    rand_set.append(a)"
   ]
  },
  {
   "cell_type": "code",
   "execution_count": 3,
   "metadata": {},
   "outputs": [],
   "source": [
    "genres = os.listdir(r\"D:\\弦鸣乐器音乐库\\正式版\")\n",
    "for genre in genres:\n",
    "    sound_files = glob.glob(r\"D:\\弦鸣乐器音乐库\\正式版\\\\\"+genre+\"\\\\*.wav\")\n",
    "    number = 0\n",
    "    for f in sound_files:\n",
    "        m = str(rand_set[number])\n",
    "        m = m.zfill(3)\n",
    "        input_music = AudioSegment.from_wav(f)\n",
    "        output_music = input_music\n",
    "        path = \"D:\\\\弦鸣乐器音乐库\\\\正式版随机\\\\\" + genre\n",
    "        output_music.export(path+'\\\\'+'%s.wav' %m, format=\"wav\") \n",
    "        number += 1"
   ]
  },
  {
   "cell_type": "code",
   "execution_count": 8,
   "metadata": {},
   "outputs": [],
   "source": [
    "genres = os.listdir(r\"D:\\弦鸣乐器音乐库\\正式版\")"
   ]
  },
  {
   "cell_type": "code",
   "execution_count": 13,
   "metadata": {},
   "outputs": [
    {
     "data": {
      "text/plain": [
       "'D:\\\\弦鸣乐器音乐库\\\\正式版随机\\\\古筝'"
      ]
     },
     "execution_count": 13,
     "metadata": {},
     "output_type": "execute_result"
    }
   ],
   "source": []
  },
  {
   "cell_type": "code",
   "execution_count": null,
   "metadata": {},
   "outputs": [],
   "source": []
  }
 ],
 "metadata": {
  "kernelspec": {
   "display_name": "Python 3",
   "language": "python",
   "name": "python3"
  },
  "language_info": {
   "codemirror_mode": {
    "name": "ipython",
    "version": 3
   },
   "file_extension": ".py",
   "mimetype": "text/x-python",
   "name": "python",
   "nbconvert_exporter": "python",
   "pygments_lexer": "ipython3",
   "version": "3.6.5"
  }
 },
 "nbformat": 4,
 "nbformat_minor": 2
}
